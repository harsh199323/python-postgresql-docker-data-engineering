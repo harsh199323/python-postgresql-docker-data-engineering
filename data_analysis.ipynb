{
 "cells": [
  {
   "cell_type": "code",
   "execution_count": 4,
   "id": "591f7bdf-fa7c-4027-8f05-562589f686ce",
   "metadata": {},
   "outputs": [],
   "source": [
    "import pandas as pd\n",
    "import matplotlib.pyplot as plt"
   ]
  },
  {
   "cell_type": "code",
   "execution_count": 8,
   "id": "672ba9d8-ca5c-40af-be0c-df874ef8a118",
   "metadata": {},
   "outputs": [
    {
     "name": "stdout",
     "output_type": "stream",
     "text": [
      "   TransactionID  ProductID  Quantity SalePrice  PurchasePrice\n",
      "0              1     1124.0       5.0     13.38           9.91\n",
      "1              2     1146.0      14.0     26.88          25.60\n",
      "2              3     1128.0       8.0     15.89          13.24\n",
      "3              4     1101.0       8.0       2.9           2.42\n",
      "4              5     1112.0       2.0      7.23           4.82\n"
     ]
    }
   ],
   "source": [
    "\"\"\"\n",
    "Attempts to load a CSV file with error handling.\n",
    "\n",
    "Args:\n",
    "    filename (str): The path to the CSV file.\n",
    "\n",
    "Returns:\n",
    "    pandas.DataFrame: The loaded DataFrame if successful, None otherwise.\n",
    "\"\"\"\n",
    "\n",
    "# Define error handling function for file loading\n",
    "def handle_file_loading_error(filename):\n",
    "    try:\n",
    "        data = pd.read_csv(filename,delimiter=';')\n",
    "        return data\n",
    "    except FileNotFoundError:\n",
    "        print(f\"Error: File '{filename}' not found. Please check the file path.\")\n",
    "    except pd.errors.ParserError as e:\n",
    "        print(f\"Error parsing CSV file '{filename}': {e}\")\n",
    "    return None  # Return None to indicate an error occurred\n",
    "\n",
    "# Load the CSV data with error handling\n",
    "data = handle_file_loading_error(\"sales_data.csv\")\n",
    "print(data.head())  # Display the first few rows\n"
   ]
  },
  {
   "cell_type": "code",
   "execution_count": null,
   "id": "10f518e8-9ebf-4ce7-85f4-6345d672762b",
   "metadata": {},
   "outputs": [],
   "source": []
  },
  {
   "cell_type": "code",
   "execution_count": null,
   "id": "836cf96b-8cc3-49f7-8e1a-ef77215605b0",
   "metadata": {},
   "outputs": [],
   "source": []
  },
  {
   "cell_type": "code",
   "execution_count": 9,
   "id": "31acfda0-e404-41de-b1cd-fe458f4bd415",
   "metadata": {},
   "outputs": [
    {
     "name": "stdout",
     "output_type": "stream",
     "text": [
      "<class 'pandas.core.frame.DataFrame'>\n",
      "RangeIndex: 2574 entries, 0 to 2573\n",
      "Data columns (total 5 columns):\n",
      " #   Column         Non-Null Count  Dtype  \n",
      "---  ------         --------------  -----  \n",
      " 0   TransactionID  2574 non-null   int64  \n",
      " 1   ProductID      2573 non-null   float64\n",
      " 2   Quantity       2573 non-null   float64\n",
      " 3   SalePrice      2573 non-null   object \n",
      " 4   PurchasePrice  2574 non-null   float64\n",
      "dtypes: float64(3), int64(1), object(1)\n",
      "memory usage: 100.7+ KB\n"
     ]
    }
   ],
   "source": [
    "#rawdata meta-information\n",
    "data.info()"
   ]
  },
  {
   "cell_type": "code",
   "execution_count": 10,
   "id": "33f127a8-9906-44cc-bfce-cf3118ee8538",
   "metadata": {},
   "outputs": [
    {
     "name": "stdout",
     "output_type": "stream",
     "text": [
      "dataset dimension:\n",
      "(2574, 5)\n",
      "\n",
      "null values in each column:\n",
      "TransactionID    0\n",
      "ProductID        1\n",
      "Quantity         1\n",
      "SalePrice        1\n",
      "PurchasePrice    0\n",
      "dtype: int64\n",
      "\n",
      "noisy and garbage data:\n",
      "      TransactionID  ProductID  Quantity SalePrice  PurchasePrice\n",
      "471             470     1130.0       NaN     35.49          28.39\n",
      "2011           2008     1133.0      11.0       NaN          16.39\n",
      "2060           2057        NaN       9.0     32.65          28.39\n",
      "      TransactionID  ProductID  Quantity SalePrice  PurchasePrice\n",
      "2573           2570     1190.0       5.0         -            6.1\n"
     ]
    }
   ],
   "source": [
    "#dataset shape\n",
    "print(\"dataset dimension:\")\n",
    "print(data.shape)\n",
    "#null values\n",
    "print(\"\\nnull values in each column:\")\n",
    "print(data.isnull().sum())  # Count of null values in each column\n",
    "print('\\nnoisy and garbage data:')\n",
    "print(data[data.isnull().any(axis=1) | data.apply(pd.isna, axis=1).any(axis=1)])\n",
    "print(data[data['SalePrice'] == '-'])\n"
   ]
  },
  {
   "cell_type": "code",
   "execution_count": null,
   "id": "3a15213d-1e55-4c11-a925-9a07cca5b01b",
   "metadata": {},
   "outputs": [],
   "source": []
  },
  {
   "cell_type": "code",
   "execution_count": 11,
   "id": "0199e8a8-248a-4626-853f-f4f662a4a089",
   "metadata": {},
   "outputs": [],
   "source": [
    "#removing duplicate rows\n",
    "# Remove duplicate rows based on 'TransactionID' while keeping the first occurrence\n",
    "data = data.drop_duplicates(subset='TransactionID', keep='first')\n",
    "#fixing null values\n",
    "# Filter null rows with purchasePrice 28.39\n",
    "# Find rows with missing ProductID and purchase price 28.39\n",
    "filtered_df = data[(data['ProductID'].isnull()) | (data['PurchasePrice'] == 28.39)]\n",
    "\n",
    "# Assuming there's only one missing value (replace with your logic if needed)\n",
    "if not filtered_df.empty:\n",
    "  missing_index = filtered_df.index[0]  # Get the index of the row with missing value\n",
    "  product_id = data[data['PurchasePrice'] == 28.39]['ProductID'].mode().iloc[0]  # Find the most frequent product ID for purchase price 28.39\n",
    "  data.loc[missing_index, 'ProductID'] = product_id  # Update the missing value with the mode\n",
    "\n",
    "#dropping other 2 rows as,to find the missing quantity and salesprice we need complete order transaction details\n",
    "raw_null_fix=data.dropna()\n",
    "\n",
    "\n",
    "# Drop rows with '-' in PurchasePrice\n",
    "silver_data = raw_null_fix.drop(raw_null_fix[raw_null_fix['SalePrice'] == '-'].index)\n",
    "\n",
    "# Convert 'ProductID' and 'Quantity' to integer\n",
    "silver_data['ProductID'] = silver_data['ProductID'].astype(int)\n",
    "silver_data['Quantity'] = silver_data['Quantity'].astype(int)\n",
    "silver_data['SalePrice'] = silver_data['SalePrice'].astype(float)"
   ]
  },
  {
   "cell_type": "code",
   "execution_count": 15,
   "id": "f9a7c6b1-e141-4fdd-9eb7-ec8c733b124e",
   "metadata": {},
   "outputs": [
    {
     "name": "stdout",
     "output_type": "stream",
     "text": [
      "      TransactionID  ProductID  Quantity  SalePrice  PurchasePrice\n",
      "2568           2565       1107         9       3.44           2.99\n",
      "2569           2566       1100         4       2.80           2.00\n",
      "2570           2567       1146         8      30.72          25.60\n",
      "2571           2568       1132         3      18.70          12.90\n",
      "2572           2569       1137        15       2.21           2.10\n",
      "<class 'pandas.core.frame.DataFrame'>\n",
      "Index: 2566 entries, 0 to 2572\n",
      "Data columns (total 5 columns):\n",
      " #   Column         Non-Null Count  Dtype  \n",
      "---  ------         --------------  -----  \n",
      " 0   TransactionID  2566 non-null   int64  \n",
      " 1   ProductID      2566 non-null   int32  \n",
      " 2   Quantity       2566 non-null   int32  \n",
      " 3   SalePrice      2566 non-null   float64\n",
      " 4   PurchasePrice  2566 non-null   float64\n",
      "dtypes: float64(2), int32(2), int64(1)\n",
      "memory usage: 100.2 KB\n",
      "\n",
      "Dataframe saved successfully locally!\n"
     ]
    }
   ],
   "source": [
    "#final cleaned dataset inforamtion\n",
    "print(silver_data.tail())\n",
    "silver_data.info()\n",
    "# Save the DataFrame to a CSV file named 'sales_data_cleaned.csv' in the current working directory (pwd)\n",
    "silver_data.to_csv('sales_data_cleaned.csv', index=False)\n",
    "print(\"\\nDataframe saved successfully locally!\")\n"
   ]
  },
  {
   "cell_type": "code",
   "execution_count": 16,
   "id": "f0fb230b-91ea-470d-9d78-6651c05ea55f",
   "metadata": {},
   "outputs": [
    {
     "name": "stdout",
     "output_type": "stream",
     "text": [
      "     ProductID  Quantity  AverageSalePrice\n",
      "0         1100         2               3.0\n",
      "1         1100         3               2.9\n",
      "2         1100         4               2.8\n",
      "3         1100         5               2.7\n",
      "4         1100         6               2.6\n",
      "..         ...       ...               ...\n",
      "662       1150        12               2.1\n",
      "663       1150        13               2.1\n",
      "664       1150        14               2.1\n",
      "665       1150        20               2.1\n",
      "666       1150        21               2.1\n",
      "\n",
      "[667 rows x 3 columns]\n"
     ]
    }
   ],
   "source": [
    "# Calculate the average Sale Price for each combination of ProductID and Quantity\n",
    "average_sale_price_df = silver_data.groupby(['ProductID', 'Quantity'])['SalePrice'].mean().reset_index(name='AverageSalePrice')\n",
    "\n",
    "# Display the new DataFrame\n",
    "print(average_sale_price_df)"
   ]
  },
  {
   "cell_type": "code",
   "execution_count": null,
   "id": "f53c5a5c-bb05-42ef-ac8b-cfe6c1771fca",
   "metadata": {},
   "outputs": [],
   "source": []
  },
  {
   "cell_type": "code",
   "execution_count": null,
   "id": "bd327235-13c4-4edf-b38b-74612e522a5c",
   "metadata": {},
   "outputs": [],
   "source": []
  },
  {
   "cell_type": "code",
   "execution_count": null,
   "id": "4d011ff9-0c20-4129-b634-d6945a826469",
   "metadata": {},
   "outputs": [],
   "source": []
  },
  {
   "cell_type": "code",
   "execution_count": null,
   "id": "071c2101-df91-4d29-ad90-41cb44e11e67",
   "metadata": {},
   "outputs": [],
   "source": []
  }
 ],
 "metadata": {
  "kernelspec": {
   "display_name": "Python 3 (ipykernel)",
   "language": "python",
   "name": "python3"
  },
  "language_info": {
   "codemirror_mode": {
    "name": "ipython",
    "version": 3
   },
   "file_extension": ".py",
   "mimetype": "text/x-python",
   "name": "python",
   "nbconvert_exporter": "python",
   "pygments_lexer": "ipython3",
   "version": "3.11.7"
  }
 },
 "nbformat": 4,
 "nbformat_minor": 5
}
