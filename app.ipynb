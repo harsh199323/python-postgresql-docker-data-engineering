{
 "cells": [
  {
   "cell_type": "code",
   "execution_count": 5,
   "id": "bcf8034d-038f-460d-8592-285fe00f80a9",
   "metadata": {},
   "outputs": [],
   "source": [
    "import psycopg2\n",
    "import pandas as pd\n",
    "from psycopg2 import extras"
   ]
  },
  {
   "cell_type": "code",
   "execution_count": null,
   "id": "cd863706-0362-4c1c-ba9a-312a6c1b49a1",
   "metadata": {},
   "outputs": [],
   "source": []
  },
  {
   "cell_type": "code",
   "execution_count": 6,
   "id": "36203820-a158-435e-9aae-e7221e528a53",
   "metadata": {},
   "outputs": [],
   "source": [
    "# Database connection details \n",
    "db_name = \"postgres\"\n",
    "db_user = \"postgres\"\n",
    "db_password = \"Harsh@1234\" \n",
    "db_host = \"127.0.0.1\"  # Assuming PostgreSQL is running on the docker machine\n",
    "# Table name\n",
    "table_name = \"sales_data\"\n",
    "\n",
    "def process_data():\n",
    "    \"\"\"\n",
    "    Processes data from the sales database table and returns a tuple containing:\n",
    "    - A dictionary where the keys are transaction IDs, and values are the total profit for each transaction.\n",
    "    - A dictionary where the keys are product IDs, and values are the total profit for each product.\n",
    "    - The product IDs of the 2 top-selling products.\n",
    "    \"\"\"\n",
    "    # Connect to the database\n",
    "    try:\n",
    "        \n",
    "        connection = psycopg2.connect(user=db_user, password=db_password, host=db_host, port=5432, dbname=db_name)\n",
    "        cursor = connection.cursor()\n",
    "    \n",
    "        # Query to select all data from the table\n",
    "        select_query = f\"SELECT * FROM {table_name};\"\n",
    "        cursor.execute(select_query)\n",
    "        records = cursor.fetchall()\n",
    "    \n",
    "        # Create a DataFrame from the database records\n",
    "        df = pd.DataFrame(records, columns=['TransactionID', 'ProductID', 'Quantity', 'SalePrice', 'PurchasePrice'])\n",
    "    \n",
    "        # Calculate the total profit for each transaction\n",
    "        df['TotalProfit'] = df['Quantity'] * (df['SalePrice'] - df['PurchasePrice'])\n",
    "    \n",
    "        # Create a dictionary for transaction profits\n",
    "        transaction_profits = df.set_index('TransactionID')['TotalProfit'].to_dict()\n",
    "    \n",
    "        # Calculate the total profit for each product\n",
    "        product_profits = df.groupby('ProductID')['TotalProfit'].sum().to_dict()\n",
    "    \n",
    "        # Identify the top 2 selling products based on the total quantity\n",
    "        top_selling_products = df.groupby('ProductID')['Quantity'].sum().nlargest(2).index.tolist()\n",
    "    \n",
    "        # Close the cursor and connection\n",
    "        cursor.close()\n",
    "        connection.close()\n",
    "    \n",
    "        # Return the results as a tuple\n",
    "        return transaction_profits, product_profits, top_selling_products\n",
    "    except (Exception, psycopg2.Error) as error:\n",
    "        print(\"Error processing data:\", error)\n",
    "        raise  # Re-raise the exception for proper handling\n",
    "        \n",
    "# Example usage of the function\n",
    "try:\n",
    "    transaction_profits, product_profits, top_selling_products = process_data()\n",
    "except Exception as e:\n",
    "    print(f\"An error occurred: {e}\")"
   ]
  },
  {
   "cell_type": "code",
   "execution_count": 7,
   "id": "542cb394-cddd-487c-b31c-d4bc16d5864f",
   "metadata": {},
   "outputs": [
    {
     "name": "stdout",
     "output_type": "stream",
     "text": [
      "     Total Profit\n",
      "1100       137.70\n",
      "1101       224.32\n",
      "1102        37.05\n",
      "1103       488.47\n",
      "1104        67.48\n",
      "1105       245.54\n",
      "1106        42.37\n",
      "1107        84.89\n",
      "1108        75.87\n",
      "1109       201.58\n",
      "1110      1003.12\n",
      "1111        81.42\n",
      "1112       479.26\n",
      "1113       897.28\n",
      "1114       170.74\n",
      "1115       575.71\n",
      "1116       263.49\n",
      "1117       734.12\n",
      "1118       153.74\n",
      "1119  55852473.72\n",
      "1120       888.22\n",
      "1121       775.20\n",
      "1122      1584.55\n",
      "1123       632.49\n",
      "1124       779.51\n",
      "1125      1624.59\n",
      "1126       839.89\n",
      "1127       269.66\n",
      "1128      1299.84\n",
      "1129      2261.08\n",
      "1130       640.40\n",
      "1131       844.33\n",
      "1132      1446.94\n",
      "1133       778.18\n",
      "1134      1756.16\n",
      "1135      2276.95\n",
      "1136      1709.81\n",
      "1137       134.26\n",
      "1138      1359.72\n",
      "1139      1113.75\n",
      "1140      2793.40\n",
      "1141      1558.24\n",
      "1142      1801.36\n",
      "1143       649.99\n",
      "1144        49.77\n",
      "1145      1383.06\n",
      "1146      1574.40\n",
      "1147       157.29\n",
      "1148       212.96\n",
      "1149      1063.44\n",
      "1150        32.20\n"
     ]
    }
   ],
   "source": [
    "#the keys(index) are product IDs, and values are the total profit for each product.\n",
    "product_profits_df = pd.DataFrame.from_dict(product_profits, orient='index', columns=['Total Profit'])\n",
    "print(product_profits_df)"
   ]
  },
  {
   "cell_type": "code",
   "execution_count": 8,
   "id": "6ca886b6-28ae-49c8-abae-1df92a545158",
   "metadata": {},
   "outputs": [
    {
     "name": "stdout",
     "output_type": "stream",
     "text": [
      "   Product ID\n",
      "0        1119\n",
      "1        1128\n"
     ]
    }
   ],
   "source": [
    "#product IDs of the 2 top-selling products.\n",
    "top_selling_products_df = pd.DataFrame(top_selling_products, columns=['Product ID'])\n",
    "print(top_selling_products_df)\n"
   ]
  },
  {
   "cell_type": "code",
   "execution_count": null,
   "id": "46fe48bc-888a-472d-8df7-0a5ff4b7e235",
   "metadata": {},
   "outputs": [],
   "source": [
    "#i also see there is an outlier on productID 1119 which has profit 55852473.72, whihch varies lot copared to other product id"
   ]
  }
 ],
 "metadata": {
  "kernelspec": {
   "display_name": "Python 3 (ipykernel)",
   "language": "python",
   "name": "python3"
  },
  "language_info": {
   "codemirror_mode": {
    "name": "ipython",
    "version": 3
   },
   "file_extension": ".py",
   "mimetype": "text/x-python",
   "name": "python",
   "nbconvert_exporter": "python",
   "pygments_lexer": "ipython3",
   "version": "3.11.7"
  }
 },
 "nbformat": 4,
 "nbformat_minor": 5
}
