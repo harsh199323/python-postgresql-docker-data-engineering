{
 "cells": [
  {
   "cell_type": "code",
   "execution_count": 4,
   "id": "35369a79-b11f-4050-a1a0-09a307570787",
   "metadata": {},
   "outputs": [],
   "source": [
    "import psycopg2\n",
    "import pandas as pd\n",
    "from psycopg2 import extras"
   ]
  },
  {
   "cell_type": "code",
   "execution_count": 9,
   "id": "6ea5399d-bca4-46d0-9593-99077bcd4a2f",
   "metadata": {},
   "outputs": [],
   "source": [
    "# Database connection details \n",
    "db_name = \"postgres\"\n",
    "db_user = \"postgres\"\n",
    "db_password = \"Harsh@1234\" \n",
    "db_host = \"127.0.0.1\"  # Assuming PostgreSQL is running on the docker machine\n",
    "# Table name\n",
    "table_name = \"sales_data1\""
   ]
  },
  {
   "cell_type": "code",
   "execution_count": 10,
   "id": "ec718d28-b518-4e85-848d-6a8c7e944288",
   "metadata": {},
   "outputs": [
    {
     "name": "stdout",
     "output_type": "stream",
     "text": [
      "   TransactionID  ProductID  Quantity  SalePrice  PurchasePrice\n",
      "0              1       1124         5      13.38           9.91\n",
      "1              2       1146        14      26.88          25.60\n",
      "2              3       1128         8      15.89          13.24\n",
      "3              4       1101         8       2.90           2.42\n",
      "4              5       1112         2       7.23           4.82\n"
     ]
    }
   ],
   "source": [
    "# Define error handling function for file loading\n",
    "def handle_file_loading_error(filename):\n",
    "    try:\n",
    "        data = pd.read_csv(filename,delimiter=',')\n",
    "        return data\n",
    "    except FileNotFoundError:\n",
    "        print(f\"Error: File '{filename}' not found. Please check the file path.\")\n",
    "    except pd.errors.ParserError as e:\n",
    "        print(f\"Error parsing CSV file '{filename}': {e}\")\n",
    "    return None  # Return None to indicate an error occurred\n",
    "\n",
    "# Load the CSV data with error handling\n",
    "data = handle_file_loading_error(\"sales_data_cleaned.csv\")\n",
    "print(data.head())  # Display the first few rows"
   ]
  },
  {
   "cell_type": "code",
   "execution_count": 11,
   "id": "e81eb66c-e688-4aef-8d72-d0d35dcad228",
   "metadata": {},
   "outputs": [
    {
     "name": "stdout",
     "output_type": "stream",
     "text": [
      "<class 'pandas.core.frame.DataFrame'>\n",
      "RangeIndex: 2566 entries, 0 to 2565\n",
      "Data columns (total 5 columns):\n",
      " #   Column         Non-Null Count  Dtype  \n",
      "---  ------         --------------  -----  \n",
      " 0   TransactionID  2566 non-null   int64  \n",
      " 1   ProductID      2566 non-null   int64  \n",
      " 2   Quantity       2566 non-null   int64  \n",
      " 3   SalePrice      2566 non-null   float64\n",
      " 4   PurchasePrice  2566 non-null   float64\n",
      "dtypes: float64(2), int64(3)\n",
      "memory usage: 100.4 KB\n",
      "Empty DataFrame\n",
      "Columns: []\n",
      "Index: []\n"
     ]
    }
   ],
   "source": [
    "#dataset meta-information\n",
    "nomenclature=pd.DataFrame(data.info()).filter(like='Non-Null Count').iloc[:, :-2]\n",
    "print(nomenclature)\n"
   ]
  },
  {
   "cell_type": "code",
   "execution_count": 12,
   "id": "724d1eb9-6dc8-4d09-aae6-11e2f9e9d483",
   "metadata": {},
   "outputs": [
    {
     "name": "stdout",
     "output_type": "stream",
     "text": [
      "Table created successfully.\n",
      "execute_batch() done\n"
     ]
    }
   ],
   "source": [
    "\n",
    "\n",
    "# Assuming the following variables are defined:\n",
    "# db_user, db_password, db_host, db_name, table_name, page_size\n",
    "\n",
    "def transfer_sales_data(csv_file):\n",
    "    \"\"\"\n",
    "    Transfers data from a CSV file to the sales database table.\n",
    "\n",
    "    Args:\n",
    "        csv_file (str): Path to the CSV file containing sales data.\n",
    "    \"\"\"\n",
    "    connection = psycopg2.connect(user=db_user, password=db_password, host=db_host, port=5432, dbname=db_name)\n",
    "    cursor = connection.cursor()\n",
    "\n",
    "    try:\n",
    "        # Create table (if it doesn't exist)\n",
    "        create_table_query = f\"\"\"\n",
    "        CREATE TABLE IF NOT EXISTS {table_name} (\n",
    "            TransactionID BIGINT PRIMARY KEY,  /* Assuming TransactionID is the primary key */\n",
    "            ProductID INT,\n",
    "            Quantity INT,\n",
    "            SalePrice DECIMAL(10, 2),  /* Assuming 2 decimal places for SalePrice */\n",
    "            PurchasePrice DECIMAL(10, 2)   /* Assuming 2 decimal places for PurchasePrice */\n",
    "        );\n",
    "        \"\"\"\n",
    "        cursor.execute(create_table_query)\n",
    "        connection.commit()\n",
    "        print(\"Table created successfully.\")\n",
    "\n",
    "    except (Exception, psycopg2.Error) as error:\n",
    "        print(\"Error creating table:\", error)\n",
    "        connection.rollback()  # Rollback on error\n",
    "\n",
    "    # Load the CSV data into a pandas DataFrame\n",
    "    df = pd.read_csv(csv_file)\n",
    "\n",
    "    try:\n",
    "        # Create a list of tuples from the dataframe values\n",
    "        tuples = [tuple(x) for x in df.to_numpy()]\n",
    "        # Comma-separated dataframe columns\n",
    "        cols = ','.join(list(df.columns))\n",
    "        # SQL query to execute\n",
    "        query = f\"INSERT INTO {table_name}({cols}) VALUES(%s,%s,%s,%s,%s)\"\n",
    "        extras.execute_batch(cursor, query, tuples, page_size=1000)\n",
    "        connection.commit()\n",
    "        print(\"execute_batch() done\")\n",
    "\n",
    "    except (Exception, psycopg2.DatabaseError) as error:\n",
    "        print(\"Error: %s\" % error)\n",
    "        connection.rollback()\n",
    "        cursor.close()\n",
    "        return 1\n",
    "\n",
    "    cursor.close()\n",
    "\n",
    "# Example usage of the function\n",
    "try:\n",
    "    transfer_sales_data(\"sales_data_cleaned.csv\")\n",
    "except Exception as e:\n",
    "    print(f\"An error occurred: {e}\")\n"
   ]
  },
  {
   "cell_type": "code",
   "execution_count": null,
   "id": "76231361-bc94-415a-8756-2d5c17becd4c",
   "metadata": {},
   "outputs": [],
   "source": []
  },
  {
   "cell_type": "code",
   "execution_count": null,
   "id": "0dce164a-74b4-4e51-8144-639877e910d7",
   "metadata": {},
   "outputs": [],
   "source": []
  },
  {
   "cell_type": "code",
   "execution_count": null,
   "id": "d518479c-8e02-4e6b-b89b-3bbe0d134ecd",
   "metadata": {},
   "outputs": [],
   "source": []
  },
  {
   "cell_type": "code",
   "execution_count": null,
   "id": "3976b6ef-8b20-4d2b-8433-70f6ee82e162",
   "metadata": {},
   "outputs": [],
   "source": []
  },
  {
   "cell_type": "code",
   "execution_count": null,
   "id": "45b991a0-687e-4475-9af4-23cf1903420a",
   "metadata": {},
   "outputs": [],
   "source": []
  }
 ],
 "metadata": {
  "kernelspec": {
   "display_name": "Python 3 (ipykernel)",
   "language": "python",
   "name": "python3"
  },
  "language_info": {
   "codemirror_mode": {
    "name": "ipython",
    "version": 3
   },
   "file_extension": ".py",
   "mimetype": "text/x-python",
   "name": "python",
   "nbconvert_exporter": "python",
   "pygments_lexer": "ipython3",
   "version": "3.11.7"
  }
 },
 "nbformat": 4,
 "nbformat_minor": 5
}
